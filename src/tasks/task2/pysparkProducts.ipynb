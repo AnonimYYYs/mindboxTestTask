{
 "cells": [
  {
   "cell_type": "code",
   "execution_count": 1,
   "id": "232a1bfb",
   "metadata": {},
   "outputs": [],
   "source": [
    "from pyspark.sql import SparkSession\n",
    "from pyspark.sql.functions import explode, lit"
   ]
  },
  {
   "cell_type": "code",
   "execution_count": 2,
   "id": "408c5e50",
   "metadata": {},
   "outputs": [],
   "source": [
    "spark = SparkSession.builder.appName(\"ProductCategory\").getOrCreate()"
   ]
  },
  {
   "cell_type": "code",
   "execution_count": 3,
   "id": "e5397b9c",
   "metadata": {},
   "outputs": [],
   "source": [
    "products_df = spark.read.csv(\"products.csv\", header=True, inferSchema=True)"
   ]
  },
  {
   "cell_type": "code",
   "execution_count": 4,
   "id": "1908a8c7",
   "metadata": {},
   "outputs": [],
   "source": [
    "relations_df = spark.read.csv(\"product_relations.csv\", header=True, inferSchema=True)"
   ]
  },
  {
   "cell_type": "code",
   "execution_count": 5,
   "id": "de71bf13",
   "metadata": {},
   "outputs": [],
   "source": [
    "exploded_relations_df = relations_df.select(\"product\", \"category\")"
   ]
  },
  {
   "cell_type": "code",
   "execution_count": 6,
   "id": "f1ffc1fc",
   "metadata": {},
   "outputs": [],
   "source": [
    "result_df = exploded_relations_df.distinct()"
   ]
  },
  {
   "cell_type": "code",
   "execution_count": 7,
   "id": "882614ec",
   "metadata": {},
   "outputs": [],
   "source": [
    "products_without_relations_df = products_df.select(\"product\").subtract(result_df.select(\"product\"))\n",
    "result_df = result_df.union(products_without_relations_df.select(\"product\", lit(None).alias(\"category\")))"
   ]
  },
  {
   "cell_type": "code",
   "execution_count": 8,
   "id": "e09d200b",
   "metadata": {},
   "outputs": [
    {
     "name": "stdout",
     "output_type": "stream",
     "text": [
      "+--------+---------+\n",
      "| product| category|\n",
      "+--------+---------+\n",
      "|product1|category1|\n",
      "|product1|category2|\n",
      "|product3|category2|\n",
      "|product2|category1|\n",
      "|product4|category3|\n",
      "|product5|     null|\n",
      "|product7|     null|\n",
      "|product6|     null|\n",
      "+--------+---------+\n",
      "\n"
     ]
    }
   ],
   "source": [
    "result_df.show()"
   ]
  },
  {
   "cell_type": "code",
   "execution_count": 9,
   "id": "996c0ae8",
   "metadata": {},
   "outputs": [],
   "source": [
    "spark.stop()"
   ]
  }
 ],
 "metadata": {
  "kernelspec": {
   "display_name": "Python 3 (ipykernel)",
   "language": "python",
   "name": "python3"
  },
  "language_info": {
   "codemirror_mode": {
    "name": "ipython",
    "version": 3
   },
   "file_extension": ".py",
   "mimetype": "text/x-python",
   "name": "python",
   "nbconvert_exporter": "python",
   "pygments_lexer": "ipython3",
   "version": "3.9.9"
  }
 },
 "nbformat": 4,
 "nbformat_minor": 5
}
